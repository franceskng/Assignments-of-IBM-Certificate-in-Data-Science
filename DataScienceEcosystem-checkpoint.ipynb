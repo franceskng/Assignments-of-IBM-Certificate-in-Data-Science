{
 "cells": [
  {
   "cell_type": "markdown",
   "id": "c1b6c68b-7bae-4db2-89f8-ba95f3d82f60",
   "metadata": {
    "tags": []
   },
   "source": [
    "# H1: Data Science Tools and Ecosystem"
   ]
  },
  {
   "cell_type": "markdown",
   "id": "73ca1a6c-bc86-43c5-8fe9-a246792ac7fe",
   "metadata": {},
   "source": [
    "In this notebook, Data Science Tools and Ecosystem are summarized."
   ]
  },
  {
   "cell_type": "markdown",
   "id": "1652fe0a-442e-4ee6-93fc-80e4338f36c8",
   "metadata": {},
   "source": [
    "Some of the popular languages that Data Scientists use are:"
   ]
  },
  {
   "cell_type": "markdown",
   "id": "ed80667d-953b-4eb3-86f2-77c23de5b2d0",
   "metadata": {},
   "source": [
    "1. Python\n",
    "2. R\n",
    "3. Julia"
   ]
  },
  {
   "cell_type": "markdown",
   "id": "4e38faaa-2872-44a0-879b-8d109cdcee85",
   "metadata": {},
   "source": [
    "**Objectives:**\n",
    "- List popular languages for Data Science\n",
    "- List common libraries used by Data Scientists\n",
    "- List common development environmetn open-source tools for Data Science\n",
    "- Perform computations in Jupyter Notebook"
   ]
  },
  {
   "cell_type": "markdown",
   "id": "a745382d-ac6b-43df-9842-de95eeefe833",
   "metadata": {},
   "source": [
    "Some of the commonly used libraries used by Data Scientists include:"
   ]
  },
  {
   "cell_type": "markdown",
   "id": "9c80d6e3-6d48-4e1c-9f1c-e6dd3fd52548",
   "metadata": {},
   "source": [
    "1. Panda \n",
    "2. Matplotlib\n",
    "3. Apache Spark"
   ]
  },
  {
   "cell_type": "markdown",
   "id": "4280a2a7-84b7-432e-bcf6-6032f41f2767",
   "metadata": {},
   "source": [
    "|Data Science Tools|\n",
    "|------------------|\n",
    "|Git|\n",
    "|Github|\n",
    "|Gitlab|\n"
   ]
  },
  {
   "cell_type": "markdown",
   "id": "a23d8982-1a15-4538-973c-d94e5b591a5c",
   "metadata": {},
   "source": [
    "### H3: Below are a few examples of evaluating arithmetic expressions in Python"
   ]
  },
  {
   "cell_type": "code",
   "execution_count": 3,
   "id": "932e427a-b63d-42ab-a575-190814dbc154",
   "metadata": {},
   "outputs": [
    {
     "data": {
      "text/plain": [
       "17"
      ]
     },
     "execution_count": 3,
     "metadata": {},
     "output_type": "execute_result"
    }
   ],
   "source": [
    "# This is a simple arithmetic expression to multiply then add integers\n",
    "(3*4)+5"
   ]
  },
  {
   "cell_type": "code",
   "execution_count": 4,
   "id": "e9ef577b-9c9b-4ad4-8bbf-4d5fafa21b09",
   "metadata": {},
   "outputs": [
    {
     "data": {
      "text/plain": [
       "3.3333333333333335"
      ]
     },
     "execution_count": 4,
     "metadata": {},
     "output_type": "execute_result"
    }
   ],
   "source": [
    "# This will convert 200 minutes to hours by diving by 60\n",
    "200/60"
   ]
  },
  {
   "cell_type": "markdown",
   "id": "a3b555d6-a9bd-412a-950a-1f0e26d2336f",
   "metadata": {},
   "source": [
    "## H2: Author\n",
    "Frances"
   ]
  },
  {
   "cell_type": "code",
   "execution_count": null,
   "id": "b54dc9d8-8e43-4383-9ce4-757d1432bc57",
   "metadata": {},
   "outputs": [],
   "source": []
  }
 ],
 "metadata": {
  "kernelspec": {
   "display_name": "Python 3 (ipykernel)",
   "language": "python",
   "name": "python3"
  },
  "language_info": {
   "codemirror_mode": {
    "name": "ipython",
    "version": 3
   },
   "file_extension": ".py",
   "mimetype": "text/x-python",
   "name": "python",
   "nbconvert_exporter": "python",
   "pygments_lexer": "ipython3",
   "version": "3.10.9"
  }
 },
 "nbformat": 4,
 "nbformat_minor": 5
}
